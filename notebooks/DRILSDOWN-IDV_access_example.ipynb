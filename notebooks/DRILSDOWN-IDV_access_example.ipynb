{
 "cells": [
  {
   "cell_type": "markdown",
   "metadata": {},
   "source": [
    "<a name=\"top\"></a>\n",
    "<div style=\"width:1000 px\">\n",
    "\n",
    "<div style=\"float:right; width:98 px; height:98px;\">\n",
    "<img src=\"https://cdn.miami.edu/_assets-common/images/system/um-logo-gray-bg.png\" alt=\"Miami Logo\" style=\"height: 98px;\">\n",
    "</div>\n",
    "\n",
    "<h1>MPO 624: Connecting Jupyter to IDV and Mapes' DRILSDOWN project</h1>\n",
    "\n",
    "<div style=\"clear:both\"></div>\n",
    "</div>\n",
    "\n",
    "<hr style=\"height:2px;\">\n",
    "\n",
    "### Steps in using IDV to get and preview data you will analyze:\n",
    "1. <a href=\"#drilsdown\">Load (or reload) the DRILSDOWN extension</a>\n"
   ]
  },
  {
   "cell_type": "markdown",
   "metadata": {},
   "source": [
    "------------\n",
    "## To use the IDV from a notebook, (re)load the extension:"
   ]
  },
  {
   "cell_type": "code",
   "execution_count": 1,
   "metadata": {},
   "outputs": [
    {
     "data": {
      "application/vnd.jupyter.widget-view+json": {
       "model_id": "08ba0c2a225440f58a261f9cd93e6218",
       "version_major": 2,
       "version_minor": 0
      },
      "text/html": [
       "<p>Failed to display Jupyter Widget of type <code>VBox</code>.</p>\n",
       "<p>\n",
       "  If you're reading this message in the Jupyter Notebook or JupyterLab Notebook, it may mean\n",
       "  that the widgets JavaScript is still loading. If this message persists, it\n",
       "  likely means that the widgets JavaScript library is either not installed or\n",
       "  not enabled. See the <a href=\"https://ipywidgets.readthedocs.io/en/stable/user_install.html\">Jupyter\n",
       "  Widgets Documentation</a> for setup instructions.\n",
       "</p>\n",
       "<p>\n",
       "  If you're reading this message in another frontend (for example, a static\n",
       "  rendering on GitHub or <a href=\"https://nbviewer.jupyter.org/\">NBViewer</a>),\n",
       "  it may mean that your frontend doesn't currently support widgets.\n",
       "</p>\n"
      ],
      "text/plain": [
       "VBox(children=(HTML(value='<h3>iPython-IDV Control Panel</h3>'), HBox(children=(HTML(value='<b>Resources:</b>'), Dropdown(options={'The Mapes IDV Collection': '45e3b50b-dbe2-408b-a6c2-2c009749cd53', 'Geode Systems Drilsdown Collection': '12704a38-9a06-4989-aac4-dafbbe13a675', 'NOAA-ESRL-PSD Climate Data Repository': 'f8d470f4-a072-4c1e-809e-d6116a393818', 'Unidata THREDDS Data Server': 'http://thredds.ucar.edu/thredds/catalog.xml', 'Unidata RAMADDA Server': '0', 'University of Miami THREDDS Data Server': 'http://weather.rsmas.miami.edu/thredds/catalog.xml', 'Local Files': '.'}, value='45e3b50b-dbe2-408b-a6c2-2c009749cd53'), Button(description='List', style=ButtonStyle(), tooltip='List'))), HBox(children=(HTML(value='<b>Search for:</b>'), Text(value='', layout=Layout(width='150px'), placeholder='IDV bundle'), Text(value='', layout=Layout(width='150px'), placeholder='Case Study or folder'), Text(value='', layout=Layout(width='150px'), placeholder='Gridded data files'), Text(value='', layout=Layout(width='150px'), placeholder='All'))), HBox(children=(Button(description='Run IDV', style=ButtonStyle(), tooltip='Run IDV'), Button(description='Make Image', style=ButtonStyle(), tooltip='Make Image'), Button(description='Make Movie', style=ButtonStyle(), tooltip='Make Movie'), Button(description='Save Bundle', style=ButtonStyle(), tooltip='Save Bundle'), Checkbox(value=False, description='Publish'))), HBox(children=(Button(description='Clear Outputs', style=ButtonStyle(), tooltip='Clear Outputs'), Button(description='Commands Help', style=ButtonStyle(), tooltip='Commands Help'), Label(value='')))))"
      ]
     },
     "metadata": {},
     "output_type": "display_data"
    },
    {
     "data": {
      "application/vnd.jupyter.widget-view+json": {
       "model_id": "831ebce2d4954c6a8bebe40a0353cfa3",
       "version_major": 2,
       "version_minor": 0
      },
      "text/html": [
       "<p>Failed to display Jupyter Widget of type <code>VBox</code>.</p>\n",
       "<p>\n",
       "  If you're reading this message in the Jupyter Notebook or JupyterLab Notebook, it may mean\n",
       "  that the widgets JavaScript is still loading. If this message persists, it\n",
       "  likely means that the widgets JavaScript library is either not installed or\n",
       "  not enabled. See the <a href=\"https://ipywidgets.readthedocs.io/en/stable/user_install.html\">Jupyter\n",
       "  Widgets Documentation</a> for setup instructions.\n",
       "</p>\n",
       "<p>\n",
       "  If you're reading this message in another frontend (for example, a static\n",
       "  rendering on GitHub or <a href=\"https://nbviewer.jupyter.org/\">NBViewer</a>),\n",
       "  it may mean that your frontend doesn't currently support widgets.\n",
       "</p>\n"
      ],
      "text/plain": [
       "VBox(children=(HTML(value='<b><img src=https://www.esrl.noaa.gov/psd/repository/icons/folder.png> <a target=self href=https://www.esrl.noaa.gov/psd/repository/entry/show?entryid=f8d470f4-a072-4c1e-809e-d6116a393818>Public</a></b><br>'), HBox(children=(HTML(value='&nbsp;&nbsp;&nbsp;'), HTML(value='<span style=font-family:monospace;><img src=https://www.esrl.noaa.gov/psd/repository/icons/folder.png> <a target=ramadda title=\"Climate Assessment Resources\" href=\"https://www.esrl.noaa.gov/psd/repository/entry/show?entryid=e5555a12-84f8-4bc6-86e3-17b51124c459\">Climate&nbsp;Assessment&nbsp;Resour</a></span>'), Button(description='List', style=ButtonStyle(), tooltip='List'), Button(description='Load Catalog', style=ButtonStyle(), tooltip='Load Catalog'))), HBox(children=(HTML(value='&nbsp;&nbsp;&nbsp;'), HTML(value='<span style=font-family:monospace;><img src=https://www.esrl.noaa.gov/psd/repository/icons/folder.png> <a target=ramadda title=\"Interpreting Climate Conditions - Case Studies\" href=\"https://www.esrl.noaa.gov/psd/repository/entry/show?entryid=b39bda59-881e-4ba1-b7ff-3613dce688ec\">Interpreting&nbsp;Climate&nbsp;Cond</a></span>'), Button(description='List', style=ButtonStyle(), tooltip='List'), Button(description='Load Catalog', style=ButtonStyle(), tooltip='Load Catalog'))), HBox(children=(HTML(value='&nbsp;&nbsp;&nbsp;'), HTML(value='<span style=font-family:monospace;><img src=https://www.esrl.noaa.gov/psd/repository/icons/folder.png> <a target=ramadda title=\"PSD Datasets\" href=\"https://www.esrl.noaa.gov/psd/repository/entry/show?entryid=e18f0d6f-743f-42ff-8aad-0e152357641b\">PSD&nbsp;Datasets&nbsp;&nbsp;&nbsp;&nbsp;&nbsp;&nbsp;&nbsp;&nbsp;&nbsp;&nbsp;&nbsp;&nbsp;&nbsp;</a></span>'), Button(description='List', style=ButtonStyle(), tooltip='List'), Button(description='Load Catalog', style=ButtonStyle(), tooltip='Load Catalog'))), HBox(children=(HTML(value='&nbsp;&nbsp;&nbsp;'), HTML(value='<span style=font-family:monospace;><img src=https://www.esrl.noaa.gov/psd/repository/icons/folder.png> <a target=ramadda title=\"Visualizations\" href=\"https://www.esrl.noaa.gov/psd/repository/entry/show?entryid=4bd472d0-3141-4d55-b69a-d4154893d4c3\">Visualizations&nbsp;&nbsp;&nbsp;&nbsp;&nbsp;&nbsp;&nbsp;&nbsp;&nbsp;&nbsp;&nbsp;</a></span>'), Button(description='List', style=ButtonStyle(), tooltip='List'), Button(description='Load Catalog', style=ButtonStyle(), tooltip='Load Catalog')))))"
      ]
     },
     "metadata": {},
     "output_type": "display_data"
    }
   ],
   "source": [
    "%reload_ext drilsdown"
   ]
  },
  {
   "cell_type": "code",
   "execution_count": null,
   "metadata": {},
   "outputs": [],
   "source": []
  },
  {
   "cell_type": "code",
   "execution_count": null,
   "metadata": {},
   "outputs": [],
   "source": []
  },
  {
   "cell_type": "code",
   "execution_count": null,
   "metadata": {},
   "outputs": [],
   "source": []
  },
  {
   "cell_type": "markdown",
   "metadata": {},
   "source": [
    "## Suppose we get an OpenDAP link -- use xarray to query it"
   ]
  },
  {
   "cell_type": "code",
   "execution_count": 3,
   "metadata": {},
   "outputs": [
    {
     "data": {
      "text/plain": [
       "<xarray.Dataset>\n",
       "Dimensions:    (lat: 180, lon: 360, nbnds: 2, time: 1468)\n",
       "Coordinates:\n",
       "  * lat        (lat) float32 89.5 88.5 87.5 86.5 85.5 84.5 83.5 82.5 81.5 ...\n",
       "  * lon        (lon) float32 0.5 1.5 2.5 3.5 4.5 5.5 6.5 7.5 8.5 9.5 10.5 ...\n",
       "  * time       (time) datetime64[ns] 1989-12-31 1990-01-07 1990-01-14 ...\n",
       "Dimensions without coordinates: nbnds\n",
       "Data variables:\n",
       "    time_bnds  (time, nbnds) float64 ...\n",
       "    sst        (time, lat, lon) float64 ...\n",
       "Attributes:\n",
       "    title:                           NOAA Optimum Interpolation (OI) SST V2\n",
       "    Conventions:                     CF-1.0\n",
       "    history:                         Created 10/2002 by RHS\n",
       "    comments:                        Data described in  Reynolds, R.W., N.A. ...\n",
       "    platform:                        Model\n",
       "    source:                          NCEP Climate Modeling Branch\n",
       "    institution:                     National Centers for Environmental Predi...\n",
       "    References:                      https://www.esrl.noaa.gov/psd/data/gridd...\n",
       "    NCO:                             4.0.0\n",
       "    dataset_title:                   NOAA Optimum Interpolation (OI) SST V2\n",
       "    source_url:                      http://www.emc.ncep.noaa.gov/research/cm...\n",
       "    DODS_EXTRA.Unlimited_Dimension:  time"
      ]
     },
     "execution_count": 3,
     "metadata": {},
     "output_type": "execute_result"
    }
   ],
   "source": [
    "import xarray as xr\n",
    "\n",
    "xr_sst = xr.open_dataset('https://www.esrl.noaa.gov/psd/repository/opendap/12159560-ab82-48a1-b3e4-88ace20475cd/entry.das')\n",
    "xr_sst\n",
    "\n"
   ]
  },
  {
   "cell_type": "code",
   "execution_count": null,
   "metadata": {},
   "outputs": [],
   "source": []
  }
 ],
 "metadata": {
  "kernelspec": {
   "display_name": "Python 3",
   "language": "python",
   "name": "python3"
  },
  "language_info": {
   "codemirror_mode": {
    "name": "ipython",
    "version": 3
   },
   "file_extension": ".py",
   "mimetype": "text/x-python",
   "name": "python",
   "nbconvert_exporter": "python",
   "pygments_lexer": "ipython3",
   "version": "3.6.4"
  }
 },
 "nbformat": 4,
 "nbformat_minor": 2
}
