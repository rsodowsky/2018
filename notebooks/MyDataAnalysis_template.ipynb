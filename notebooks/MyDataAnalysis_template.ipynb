{
 "cells": [
  {
   "cell_type": "markdown",
   "metadata": {},
   "source": [
    "<a name=\"top\"></a>\n",
    "<div style=\"width:1000 px\">\n",
    "\n",
    "<div style=\"float:right; width:98 px; height:98px;\">\n",
    "<img src=\"https://cdn.miami.edu/_assets-common/images/system/um-logo-gray-bg.png_removethissuffixspoiler\" alt=\"I don't pay attention\" style=\"height: 98px;\">\n",
    "</div>\n",
    "\n",
    "<h1>My generic data analysis</h1>\n",
    "\n",
    "<div style=\"clear:both\"></div>\n",
    "</div>\n",
    "\n",
    "<hr style=\"height:2px;\">\n",
    "\n",
    "### The main steps of any data analysis\n",
    "1. <a href=\"#import\">Import data</a>\n",
    "1. <a href=\"#select\">Select subset</a>\n",
    "1. <a href=\"#anomaly\">Filter out unwanted aspects</a>\n",
    "1. <a href=\"#stats\">Statistical analysis</a>\n",
    "1. <a href=\"#plot\">Plot results **and interpret**</a>"
   ]
  },
  {
   "cell_type": "markdown",
   "metadata": {},
   "source": [
    "### The purpose and goal of this analysis\n",
    "Here I explain what this notebook is about. \n",
    "\n",
    "----------\n",
    "\n",
    "Import block: Delete any unneeded"
   ]
  },
  {
   "cell_type": "code",
   "execution_count": 2,
   "metadata": {},
   "outputs": [],
   "source": [
    "import numpy as np\n",
    "import pandas as pd\n",
    "import netCDF4 as nc\n",
    "import xarray as xr \n",
    "import matplotlib.pyplot as plt"
   ]
  },
  {
   "cell_type": "markdown",
   "metadata": {},
   "source": [
    "<a name=\"import\"></a>\n",
    "### Import our dataset"
   ]
  },
  {
   "cell_type": "code",
   "execution_count": 6,
   "metadata": {},
   "outputs": [
    {
     "data": {
      "image/png": "[encoded data removed]",
      "text/plain": [
       "<matplotlib.figure.Figure at 0x261b70346d8>"
      ]
     },
     "metadata": {},
     "output_type": "display_data"
    }
   ],
   "source": [
    "#Dataset from KNMI (https://climexp.knmi.nl/getstations.cgi)\n",
    "#Precipitation (mm/day) \n",
    "#Cape Florida, FL\n",
    "#Lat: 26N lon: 80W\n",
    "\n",
    "import numpy as np\n",
    "import pandas as pd\n",
    "from netCDF4 import Dataset\n",
    "import matplotlib.pyplot as plt\n",
    "from matplotlib import gridspec\n",
    "from scipy import signal\n",
    "\n",
    "q=Dataset('R.nc','r',format='NETCDF4')  \n",
    "q.variables \n",
    "t = np.array(q.variables['time'])   #time\n",
    "R = np.array(q.variables['PRCP'])   #Precipitation\n",
    "R[R==3e+33]=np.nan                  #Remove nans\n",
    "t = t[~np.isnan(R)]\n",
    "R = R[~np.isnan(R)]\n",
    "#R.shape\n",
    "#print(R)\n",
    "plt.plot(t,R)\n",
    "plt.xlabel('Time (day)');plt.ylabel('Rain rate (mm/day)');\n",
    "plt.title('1997-2018');"
   ]
  },
  {
   "cell_type": "code",
   "execution_count": 1,
   "metadata": {},
   "outputs": [
    {
     "data": {
      "text/plain": [
       "<xarray.Dataset>\n",
       "Dimensions:  (lon: 144, time: 240)\n",
       "Coordinates:\n",
       "  * lon      (lon) float32 0.0 2.5 5.0 7.5 10.0 12.5 15.0 17.5 20.0 22.5 ...\n",
       "  * time     (time) float32 1.0 2.0 3.0 4.0 5.0 6.0 7.0 8.0 9.0 10.0 11.0 ...\n",
       "Data variables:\n",
       "    olr      (time, lon) float32 ...\n",
       "    precip   (time, lon) float32 ...\n",
       "    slp      (time, lon) float32 ...\n",
       "    sst      (time, lon) float32 ...\n",
       "    uwnd     (time, lon) float32 ..."
      ]
     },
     "execution_count": 1,
     "metadata": {},
     "output_type": "execute_result"
    }
   ],
   "source": [
    "import xarray as xr \n",
    "datafile = xr.open_dataset('Eq_timelon_sections.nc', decode_times=False)\n",
    "\n",
    "datafile"
   ]
  },
  {
   "cell_type": "code",
   "execution_count": 9,
   "metadata": {},
   "outputs": [
    {
     "name": "stdout",
     "output_type": "stream",
     "text": [
      "lon=datafile['lon'][:].squeeze()\n",
      "time=datafile['time'][:].squeeze()\n",
      "olr=datafile['olr'][:].squeeze()\n",
      "precip=datafile['precip'][:].squeeze()\n",
      "slp=datafile['slp'][:].squeeze()\n",
      "sst=datafile['sst'][:].squeeze()\n",
      "uwnd=datafile['uwnd'][:].squeeze()\n"
     ]
    }
   ],
   "source": [
    "# Trick: a loop over keys, building a command. Then, execute that command!\n",
    "\n",
    "for key in datafile.variables.keys(): \n",
    "    print( key +\"=datafile['\"+key+\"'][:].squeeze()\") # to show the command\n",
    "    exec( key +\"=datafile['\"+key+\"'][:].squeeze()\")\n",
    "datafile.close()"
   ]
  },
  {
   "cell_type": "code",
   "execution_count": 11,
   "metadata": {},
   "outputs": [
    {
     "data": {
      "text/plain": [
       "<xarray.DataArray 'time' (time: 240)>\n",
       "array([1980.125 , 1980.2084, 1980.2916, ..., 1999.875 , 1999.9584, 2000.0416],\n",
       "      dtype=float32)\n",
       "Coordinates:\n",
       "  * time     (time) float32 1.0 2.0 3.0 4.0 5.0 6.0 7.0 8.0 9.0 10.0 11.0 ..."
      ]
     },
     "execution_count": 11,
     "metadata": {},
     "output_type": "execute_result"
    }
   ],
   "source": [
    "# Rename time to something that will not collide with \"time\" \n",
    "yyyy = 1980.0 + (time + 0.5)/12. # 0.5 puts it at the center of each month\n",
    "yyyy"
   ]
  },
  {
   "cell_type": "markdown",
   "metadata": {},
   "source": [
    "### This command is just like Matlab: WHO'S IN THERE?  \n",
    "##### But it must be at the TOP of its cell."
   ]
  },
  {
   "cell_type": "code",
   "execution_count": 12,
   "metadata": {},
   "outputs": [
    {
     "name": "stdout",
     "output_type": "stream",
     "text": [
      "Variable   Type         Data/Info\n",
      "---------------------------------\n",
      "datafile   Dataset      <xarray.Dataset>\\nDimensi<...>  (time, lon) float32 ...\n",
      "key        str          uwnd\n",
      "lon        DataArray    <xarray.DataArray 'lon' (<...>    long_name:  Longitude\n",
      "olr        DataArray    <object with id 4646660192 (str() failed)>\n",
      "precip     DataArray    <object with id 4646659520 (str() failed)>\n",
      "slp        DataArray    <object with id 4646886704 (str() failed)>\n",
      "sst        DataArray    <object with id 4646836264 (str() failed)>\n",
      "time       DataArray    <xarray.DataArray 'time' <...>:00\\n    long_name:  Time\n",
      "uwnd       DataArray    <object with id 4646661424 (str() failed)>\n",
      "xr         module       <module 'xarray' from '//<...>ages/xarray/__init__.py'>\n",
      "yyyy       DataArray    <xarray.DataArray 'time' <...>7.0 8.0 9.0 10.0 11.0 ...\n"
     ]
    }
   ],
   "source": [
    "whos"
   ]
  },
  {
   "cell_type": "markdown",
   "metadata": {},
   "source": [
    "### Now I grab CPAC and EPAC time series: a _pylab_ way\n",
    "##### Pylab magic (the % is for \"magics\" and must be at the TOP of its cell)\n",
    "Pylab is \"not recommeded\", it has dangers - but acts like Matlab, simple for quick looks"
   ]
  },
  {
   "cell_type": "code",
   "execution_count": 13,
   "metadata": {},
   "outputs": [
    {
     "name": "stdout",
     "output_type": "stream",
     "text": [
      "Populating the interactive namespace from numpy and matplotlib\n"
     ]
    },
    {
     "name": "stderr",
     "output_type": "stream",
     "text": [
      "//anaconda/envs/MPO624/lib/python3.6/site-packages/IPython/core/magics/pylab.py:160: UserWarning: pylab import has clobbered these variables: ['time']\n",
      "`%matplotlib` prevents importing * from pylab and numpy\n",
      "  \"\\n`%matplotlib` prevents importing * from pylab and numpy\"\n"
     ]
    },
    {
     "data": {
      "text/plain": [
       "<contextlib._GeneratorContextManager at 0x114fb85f8>"
      ]
     },
     "execution_count": 13,
     "metadata": {},
     "output_type": "execute_result"
    }
   ],
   "source": [
    "%pylab inline\n",
    "plt.xkcd() # whiteboard style"
   ]
  },
  {
   "cell_type": "code",
   "execution_count": 14,
   "metadata": {},
   "outputs": [
    {
     "data": {
      "text/plain": [
       "<module 'time' (built-in)>"
      ]
     },
     "execution_count": 14,
     "metadata": {},
     "output_type": "execute_result"
    }
   ],
   "source": [
    "time # CAREFUL! Pylab overwrote one of our variables! "
   ]
  },
  {
   "cell_type": "markdown",
   "metadata": {},
   "source": [
    "<a name=\"select\"></a>\n",
    "### Select location with xarray functions! "
   ]
  },
  {
   "cell_type": "code",
   "execution_count": null,
   "metadata": {},
   "outputs": [],
   "source": [
    "sst.sel(dim='lon', )\n",
    "sst.sel()"
   ]
  },
  {
   "cell_type": "code",
   "execution_count": null,
   "metadata": {},
   "outputs": [],
   "source": [
    "CPAC = sst[:,find(lon == 185)]\n",
    "EPAC = sst[:,find(lon == 240)]\n",
    "plot(CPAC); plot(EPAC); \n",
    "title('CPAC and EPAC SST (240 mos, from Jan 1980)')"
   ]
  },
  {
   "cell_type": "markdown",
   "metadata": {},
   "source": [
    "<a name=\"anomaly\"></a>\n",
    "## Remove seasonality\n",
    "\n",
    "Seasonality's web of causality has all variables (all over the globe) forced by the sun. \n",
    "\n",
    "ENSO's web is different (along the equator, wind pushes the ocean, ocean SST drives convection, convection drives the wind -- a coupled system). \n",
    "\n",
    "**It is physically meaningless to study \"variability\" that is an unmanaged blend of a forced cycle and a free oscillation!**"
   ]
  },
  {
   "cell_type": "code",
   "execution_count": null,
   "metadata": {},
   "outputs": [],
   "source": [
    "calmos = arange(12) ## Runs from 0-11, not 1-12, CAREFUL! \n",
    "\n",
    "# I happen to know the data begin with a January. CAREFUL! Not a general approach\n",
    "months = arange(size(EPAC)) \n",
    "for imo in calmos:\n",
    "    yess = find(imo == months%12)\n",
    "    EPAC[yess] -= mean(EPAC[ yess ] )\n",
    "    CPAC[yess] -= mean(CPAC[ yess ] )\n",
    "\n",
    "# Let's make a plot. Again Pylab has its cheats... I just happen to know times\n",
    "yyyy = 1980 + time/12. + 0.5  \n",
    "\n",
    "plot(yyyy, EPAC, label='EPAC'); \n",
    "plot(yyyy, CPAC, label='CPAC'); \n",
    "title('SST anomalies (C) monthly from Jan 1980')\n",
    "legend(loc='best')"
   ]
  },
  {
   "cell_type": "markdown",
   "metadata": {},
   "source": [
    "#### Hmm, they look rather similar. But there is a little bit of indepependent information. Wonder what the correlation is? "
   ]
  },
  {
   "cell_type": "code",
   "execution_count": null,
   "metadata": {},
   "outputs": [],
   "source": [
    "# corrcoef( transpose(CPAC), transpose(EPAC) )\n",
    "cor = mean(CPAC*EPAC) / std(CPAC) / std(EPAC)\n",
    "print( cor, var(CPAC), var(EPAC) )\n",
    "print( 'Wow, shared variance is only ', 100*cor**2,'%' )\n",
    "plot(CPAC,EPAC,'.')"
   ]
  },
  {
   "cell_type": "code",
   "execution_count": null,
   "metadata": {},
   "outputs": [],
   "source": [
    "import scipy, scipy.stats\n",
    "# ?scipy.stats.linregress\n",
    "\n",
    "# let's fit a line. EPAC regressed on CPAC in (CPAC,EPAC) calling order:   \n",
    "slope, intercept, r_value, p_value, std_err = \\\n",
    "    scipy.stats.linregress(transpose(CPAC),transpose(EPAC))\n",
    "    \n",
    "EfromC = intercept + slope*CPAC\n",
    "print( slope, intercept )\n",
    "print(\"r-squared:\", r_value**2)"
   ]
  },
  {
   "cell_type": "code",
   "execution_count": null,
   "metadata": {},
   "outputs": [],
   "source": [
    "slope, intercept, r_value, p_value, std_err = \\\n",
    "    scipy.stats.linregress(transpose(EPAC),transpose(CPAC))\n",
    " \n",
    "CfromE = intercept + slope*EPAC\n",
    "print( slope, intercept )\n",
    "print(\"r-squared:\", r_value**2)"
   ]
  },
  {
   "cell_type": "markdown",
   "metadata": {},
   "source": [
    "<a name=\"regress\"></a>\n",
    "## A good example of asymmetric regressions"
   ]
  },
  {
   "cell_type": "code",
   "execution_count": null,
   "metadata": {},
   "outputs": [],
   "source": [
    "plot(CPAC,EPAC,'.')\n",
    "plot(CPAC,EfromC)\n",
    "plot(CfromE, EPAC)"
   ]
  },
  {
   "cell_type": "code",
   "execution_count": null,
   "metadata": {},
   "outputs": [],
   "source": [
    "## Plot the indidvidual regressions\n",
    "### Can only be the same series, scaled to have 44% as much variance! "
   ]
  },
  {
   "cell_type": "code",
   "execution_count": null,
   "metadata": {},
   "outputs": [],
   "source": [
    "# Plot the indidvidual regressions\n",
    "\n",
    "figure(figsize=[10,10])\n",
    "\n",
    "subplot(211)\n",
    "plot(yyyy, EPAC,  'b' , label='EPAC,  var '+str(var(EPAC)) )\n",
    "plot(yyyy, CPAC,  'r' , label='CPAC,  var '+str(var(CPAC)) )\n",
    "plot(yyyy, EfromC,'b:', label='EfromC,var '+str(var(EfromC)) )\n",
    "title('SST anomalies (C) monthly from Jan 1980')\n",
    "legend(loc='best')\n",
    "\n",
    "subplot(212)\n",
    "plot(yyyy, CPAC,  'r' , label='CPAC,   var '+str(var(CPAC)) )\n",
    "plot(yyyy, EPAC,  'b' , label='EPAC,   var '+str(var(EPAC)) )\n",
    "plot(yyyy, CfromE,'r:', label='CfromE, var '+str(var(CfromE)) )\n",
    "title('SST anomalies (C) monthly from Jan 1980')\n",
    "legend(loc='best')"
   ]
  },
  {
   "cell_type": "code",
   "execution_count": null,
   "metadata": {},
   "outputs": [],
   "source": [
    "ssta = sst.copy() # anomaly array copy\n",
    "for ilon in arange(len(lon)): \n",
    "    for imo in calmos:\n",
    "        calmo = find(imo == months%12)\n",
    "        ssta[calmo,ilon] -= mean( sst[calmo,ilon] )\n",
    "\n",
    "contourf(lon, yyyy, ssta)\n",
    "title('SSTA in K')\n",
    "colorbar()"
   ]
  },
  {
   "cell_type": "markdown",
   "metadata": {},
   "source": [
    "<a name=\"lagregress\"></a>\n",
    "### Lag regressions of SST everywhere, relative to EPAC, CPAC. \n",
    "#### Define the 'result' array. Then fill it with a loop. Then display it. "
   ]
  },
  {
   "cell_type": "code",
   "execution_count": null,
   "metadata": {},
   "outputs": [],
   "source": [
    "# Longitude-lag arrays are the results space\n",
    "lags = arange(-12,13,1)\n",
    "print(lags)"
   ]
  },
  {
   "cell_type": "code",
   "execution_count": null,
   "metadata": {},
   "outputs": [],
   "source": [
    "# Use the CPAC time series as the reference or \"base\" time series \n",
    "\n",
    "# Answer shaped containers\n",
    "Covs_fromC = zeros( (len(lags), len(lon))  )\n",
    "Corrs_fromC = zeros( (len(lags), len(lon))  )\n",
    "\n",
    "# Loop and fill\n",
    "for ilag in arange(len(lags)): \n",
    "    for ilon in arange(len(lon)):\n",
    "        \n",
    "# Roll is a periodic shift of an array. \n",
    "# Rolling across the beginning and end will be an error! \n",
    "# If there's lots of data, this is a small error... \n",
    "\n",
    "        ts1 = roll(CPAC,lags[ilag]).squeeze()\n",
    "        ts2 = ssta[:,ilon].squeeze()\n",
    "\n",
    "        Covs_fromC[ilag,ilon]  = mean(ts1*ts2)\n",
    "        Corrs_fromC[ilag,ilon] = mean(ts1*ts2) /std(ts1)/std(ts2)\n"
   ]
  },
  {
   "cell_type": "code",
   "execution_count": null,
   "metadata": {},
   "outputs": [],
   "source": [
    "contourf(lon, lags, Covs_fromC)\n",
    "title('Covariance: units are K^2')\n",
    "colorbar()"
   ]
  },
  {
   "cell_type": "code",
   "execution_count": null,
   "metadata": {},
   "outputs": [],
   "source": [
    "contourf(lon, lags, Corrs_fromC)\n",
    "colorbar()\n",
    "title(\"Correlation: unitless, 1 at base longitude and zero lag\")"
   ]
  },
  {
   "cell_type": "code",
   "execution_count": null,
   "metadata": {},
   "outputs": [],
   "source": [
    "## That is kind of a \"typical event\" composite: can we see 130E feature in data?"
   ]
  },
  {
   "cell_type": "code",
   "execution_count": null,
   "metadata": {},
   "outputs": [],
   "source": [
    "contourf(lon, yyyy, ssta)\n",
    "title('SSTA in K')\n",
    "colorbar()"
   ]
  },
  {
   "cell_type": "code",
   "execution_count": null,
   "metadata": {},
   "outputs": [],
   "source": [
    "# Use the CPAC time series as the reference or \"base\" time series \n",
    "\n",
    "# Answer shaped containers\n",
    "Covs_fromE = zeros( (len(lags), len(lon))  )\n",
    "Corrs_fromE = zeros( (len(lags), len(lon))  )\n",
    "\n",
    "# Loop and fill\n",
    "for ilag in arange(len(lags)): \n",
    "    for ilon in arange(len(lon)):\n",
    "        \n",
    "# Roll is a periodic shift of an array. \n",
    "# Rolling across the beginning and end will be an error! \n",
    "# If there's lots of data, this is a small error... \n",
    "\n",
    "        ts1 = roll(EPAC,lags[ilag]).squeeze()\n",
    "        ts2 = ssta[:,ilon].squeeze()\n",
    "\n",
    "        Covs_fromE[ilag,ilon]  = mean(ts1*ts2)\n",
    "        Corrs_fromE[ilag,ilon] = mean(ts1*ts2) /std(ts1)/std(ts2)\n"
   ]
  },
  {
   "cell_type": "code",
   "execution_count": null,
   "metadata": {},
   "outputs": [],
   "source": [
    "contourf(lon, lags, Covs_fromE)\n",
    "title('Covariance: units are K^2')\n",
    "colorbar()"
   ]
  },
  {
   "cell_type": "code",
   "execution_count": null,
   "metadata": {},
   "outputs": [],
   "source": [
    "contourf(lon, lags, Corrs_fromE)\n",
    "colorbar()\n",
    "title(\"Correlation: unitless, 1 at base longitude and zero lag\")"
   ]
  },
  {
   "cell_type": "code",
   "execution_count": null,
   "metadata": {},
   "outputs": [],
   "source": [
    "## That is kind of a \"typical event\" composite: can we see it all in data?"
   ]
  },
  {
   "cell_type": "code",
   "execution_count": null,
   "metadata": {},
   "outputs": [],
   "source": [
    "contourf(lon, yyyy, ssta, cmap='seismic', vmin=-4, vmax=4)\n",
    "title('SSTA in K')\n",
    "colorbar()"
   ]
  },
  {
   "cell_type": "code",
   "execution_count": null,
   "metadata": {},
   "outputs": [],
   "source": []
  }
 ],
 "metadata": {
  "kernelspec": {
   "display_name": "Python 3",
   "language": "python",
   "name": "python3"
  },
  "language_info": {
   "codemirror_mode": {
    "name": "ipython",
    "version": 3
   },
   "file_extension": ".py",
   "mimetype": "text/x-python",
   "name": "python",
   "nbconvert_exporter": "python",
   "pygments_lexer": "ipython3",
   "version": "3.6.4"
  }
 },
 "nbformat": 4,
 "nbformat_minor": 2
}
