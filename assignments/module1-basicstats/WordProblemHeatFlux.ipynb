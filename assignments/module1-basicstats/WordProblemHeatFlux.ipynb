{
 "cells": [
  {
   "cell_type": "markdown",
   "metadata": {},
   "source": [
    "#### A word problem\n",
    "When you put a pot of water on a heated stove, the water convects. The temperature at the top of the pan rises because of a fluid heat flux wT. \n",
    "\n",
    "You set up a vertical anemometer to measure w and a thermometer to measure T in the mid-depth of the pan. It collects the following data: \n",
    "\n",
    "$\\overline{w'T'}$ = 1 K m/s\n",
    "\n",
    "$\\sigma_T$ = 3 K\n",
    "\n",
    "$\\sigma_w$ = 2 m/s\n",
    "\n",
    "    a. Show that since $\\overline{w}$ = 0, $\\overline{wT} = \\overline{w'T'}$. \n",
    "\n",
    "\n",
    "\n",
    "    b. Somebody gets your data and uses it to test their proposition that T \"explains\" w: \n",
    "\n",
    "        T' = a w' + e1\n",
    "\n",
    "    Somebody else gets your data and uses it to test the alternate proposition that w \"explains\" T: \n",
    "\n",
    "        w' = a T' + e2\n",
    "\n",
    "    **What are a,b if the _principle of linear regression_ is used to optimize their values? Is a = 1/b?**\n",
    "\n",
    "\n",
    "\n",
    "    c. What fraction of $\\overline{T'^2}$ does the a term explain? \n",
    "    \n",
    "    d. What fraction of $\\overline{w'^2}$ does the b term explain?\n",
    "    \n",
    "    e. Suppose your thermometer breaks an you buy a cheaper one, with random measurement errors. That change raises $\\sigma_T$ = 5 K. Which quantities stay the same, which go up, and which go down? \n",
    "    \n",
    "var(T)....var(w)....cov(w,T)....cor(w,T)....a....b....e1....e2....explained variances\n",
    "\n"
   ]
  }
 ],
 "metadata": {
  "kernelspec": {
   "display_name": "Python 3",
   "language": "python",
   "name": "python3"
  },
  "language_info": {
   "codemirror_mode": {
    "name": "ipython",
    "version": 3
   },
   "file_extension": ".py",
   "mimetype": "text/x-python",
   "name": "python",
   "nbconvert_exporter": "python",
   "pygments_lexer": "ipython3",
   "version": "3.6.4"
  }
 },
 "nbformat": 4,
 "nbformat_minor": 2
}
